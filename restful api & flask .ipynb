{
  "nbformat": 4,
  "nbformat_minor": 0,
  "metadata": {
    "colab": {
      "provenance": []
    },
    "kernelspec": {
      "name": "python3",
      "display_name": "Python 3"
    },
    "language_info": {
      "name": "python"
    }
  },
  "cells": [
    {
      "cell_type": "code",
      "execution_count": null,
      "metadata": {
        "id": "gv3iTPdkBSm4"
      },
      "outputs": [],
      "source": [
        "# Restful API & Flask"
      ]
    },
    {
      "cell_type": "code",
      "source": [
        "#Q1.  What is a RESTful API?\n",
        "#Answer. A RESTful API, or Representational State Transfer Application Programming Interface, is an API that adheres to the architectural principles of REST. REST is an architectural style for distributed hypermedia systems, defined by computer scientist Roy Fielding.\n",
        "#Key characteristics and principles of RESTful APIs include:\n",
        "#Client-Server Architecture: The client and server are separate entities, allowing them to evolve independently. The client handles the user interface and user interactions, while the server manages data and business logic.\n",
        "#Statelessness: Each request from a client to a server must contain all the information necessary to understand the request. The server does not store any client context between requests. This improves scalability and reliability.\n",
        "#Uniform Interface: This is a key constraint that simplifies the overall system architecture. It includes:\n",
        "#Identification of Resources: Resources are identified by URIs (Uniform Resource Identifiers).\n",
        "#Manipulation of Resources through Representations: Clients interact with resources by exchanging representations (e.g., JSON, XML) of those resources.\n",
        "#Self-Descriptive Messages: Messages exchanged between client and server contain enough information to be understood without prior knowledge.\n",
        "#Hypermedia as the Engine of Application State (HATEOAS): Resource representations include links to related resources, guiding the client through the available actions and transitions.\n",
        "#Cacheability: Responses from the server can be explicitly or implicitly marked as cacheable, allowing clients to reuse stored responses for future requests, improving performance.\n",
        "#Layered System: A client cannot ordinarily tell whether it is connected directly to the end server or to an intermediary. This allows for the introduction of proxies, load balancers, or other architectural components without affecting the client-server interaction.\n",
        "#RESTful APIs commonly use standard HTTP methods (GET, POST, PUT, DELETE) to perform operations on resources, making them a widely adopted and flexible choice for web and mobile application development."
      ],
      "metadata": {
        "id": "zFH725GUBVFY"
      },
      "execution_count": null,
      "outputs": []
    },
    {
      "cell_type": "code",
      "source": [
        "#Q2.  Explain the concept of API specification?\n",
        "#Answer. An API specification is a formal, detailed description that defines how an Application Programming Interface (API) functions and how different software components can interact with it. It serves as a blueprint or contract, outlining the rules and guidelines for communication between systems.\n",
        "#Key aspects of an API specification include:\n",
        "#Endpoints and Operations: Defines the available resources (endpoints) and the actions (operations) that can be performed on them (e.g., GET, POST, PUT, DELETE for REST APIs).\n",
        "#Request and Response Formats: Specifies the structure and data types of information sent to and received from the API, including parameters, headers, and body content. This often utilizes formats like JSON or XML.\n",
        "#Authentication and Authorization: Details the security mechanisms required to access the API, such as API keys, OAuth tokens, or other authentication methods.\n",
        "#Error Handling: Outlines the types of errors that can occur and the corresponding error codes and messages returned by the API.\n",
        "#Data Models: Describes the structure and relationships of the data exchanged through the API.\n",
        "#Examples of API specification standards include:\n",
        "#OpenAPI Specification (OAS): A widely used, language-agnostic standard for describing RESTful APIs in a machine-readable format (typically YAML or JSON).\n",
        "#AsyncAPI: A specification for describing event-driven architectures and message-driven APIs.\n",
        "#Purpose of API specifications:\n",
        "#Clarity and Consistency: Provides a clear and unambiguous definition of the API's behavior, ensuring consistency in its implementation and usage.\n",
        "#Automation: Enables the generation of documentation, client libraries, and test cases automatically, streamlining the development process.\n",
        "#Collaboration: Facilitates collaboration between development teams by providing a shared understanding of the API's design and functionality.\n",
        "#Maintainability: Supports the long-term maintenance and evolution of the API by providing a single source of truth for its definition."
      ],
      "metadata": {
        "id": "i1JAQ2CjBVB_"
      },
      "execution_count": null,
      "outputs": []
    },
    {
      "cell_type": "code",
      "source": [
        "#Q3 What is Flask, and why is it popular for building APIs?\n",
        "#Answer. Flask is a lightweight Python web framework known for its simplicity and flexibility. It is often referred to as a \"micro-framework\" because it provides the essential tools for web development without imposing a rigid structure or including many built-in features like a full-stack framework such as Django.\n",
        "#Why Flask is popular for building APIs:\n",
        "#Lightweight and Minimalist: Flask's core is intentionally kept small, focusing on providing the fundamental components for web development like routing and a WSGI application. This minimalism makes it easy to understand, learn, and use, allowing developers to add only the functionalities they need for their specific API.\n",
        "#Flexibility and Customization: Flask's \"micro-framework\" nature offers immense flexibility. Developers can choose their preferred libraries and tools for tasks like database interaction, authentication, and serialization, instead of being tied to a framework's opinionated choices. This is particularly beneficial for building APIs where specific technologies might be required.\n",
        "#Ease of Use for RESTful APIs: Flask's simple routing mechanism and ability to handle HTTP requests and responses make it well-suited for building RESTful APIs. Returning JSON responses from views is straightforward, and extensions are available to simplify complex serialization and API development.\n",
        "#Excellent for Microservices: Flask's lightweight nature aligns perfectly with the microservices architectural style. It allows developers to build small, self-contained API services that can be easily integrated into larger applications or deployed independently.\n",
        "#Strong Community and Extensions: Flask has a large and active community, resulting in extensive documentation, tutorials, and a rich ecosystem of extensions. These extensions provide ready-made solutions for common API development needs, such as database integration (e.g., Flask-SQLAlchemy), authentication (e.g., Flask-Login), and API documentation (e.g., Connexion).\n",
        "#Quick Prototyping and Deployment: Flask's simplicity and minimal setup requirements allow for rapid development and deployment of APIs, making it a popular choice for quickly building prototypes or deploying machine learning models as API endpoints."
      ],
      "metadata": {
        "id": "ff_Og6q-BU_R"
      },
      "execution_count": null,
      "outputs": []
    },
    {
      "cell_type": "code",
      "source": [
        "#Q4.  What is routing in Flask?\n",
        "#Answer. Routing in Flask is the mechanism that maps specific URLs to Python functions within your application. When a user requests a particular URL, Flask's routing system determines which function should be executed to handle that request and generate a response.\n",
        "#Key aspects of Flask routing:\n",
        "#URL to Function Mapping: Routing establishes a connection between a URL pattern and a corresponding Python function (often called a \"view function\").\n",
        "#@app.route Decorator: The most common way to define routes in Flask is by using the @app.route() decorator. This decorator is placed directly above the function it associates with a given URL.\n",
        "#    from flask import Flask\n",
        "#    app = Flask(__name__)\n",
        "\n",
        "#    @app.route('/')\n",
        "#    def index():\n",
        "#        return \"Welcome to the homepage!\"\n",
        "\n",
        "#    @app.route('/about')\n",
        "#    def about():\n",
        "#        return \"This is the about page.\"\n",
        "\n",
        "#Dynamic URLs: Flask allows for dynamic URLs using variable parts within the route. These variables are captured from the URL and passed as arguments to the view function.\n",
        "#    @app.route('/user/<username>')\n",
        "#    def show_user_profile(username):\n",
        "#        return f'User: {username}'\n",
        "\n",
        "#    @app.route('/post/<int:post_id>')\n",
        "#    def show_post(post_id):\n",
        "#        return f'Post ID: {post_id}'\n",
        "#HTTP Methods: Routes can be configured to respond to specific HTTP methods (GET, POST, PUT, DELETE, etc.) using the methods argument in the @app.route decorator.\n",
        "#        @app.route('/login', methods=['GET', 'POST'])\n",
        "#    def login():\n",
        "#        if request.method == 'POST':\n",
        "#            # Handle login logic\n",
        "#            return \"Login successful!\"\n",
        "#        else:\n",
        "#            return \"Please log in.\""
      ],
      "metadata": {
        "id": "TAXXqppsBU8q"
      },
      "execution_count": null,
      "outputs": []
    },
    {
      "cell_type": "code",
      "source": [
        "#Q5. How do you create a simple Flask application?\n",
        "#ANSWER. 1. Set up your Project Directory and Virtual Environment:\n",
        "#Create a new directory for your project:\n",
        "    #mkdir my_flask_app\n",
        "    #cd my_flask_app\n",
        "\n",
        "#Create and activate a virtual environment to manage dependencies:\n",
        "    python -m venv venv\n",
        "    # On Windows:\n",
        "    # venv\\Scripts\\activate\n",
        "    # On macOS/Linux:\n",
        "    # source venv/bin/activate\n",
        "#2. Install Flask:\n",
        "#With the virtual environment activated, install Flask using pip:\n",
        "\n",
        "#    pip install Flask\n",
        "\n",
        "#3. Create your Flask Application File:\n",
        "#Create a Python file, typically named app.py, in your project directory:\n",
        "\n",
        "#    touch app.py\n",
        "\n",
        "#Open app.py and add the following code:\n",
        "\n",
        "#    from flask import Flask\n",
        "\n",
        "#    app = Flask(__name__)\n",
        "\n",
        "#    @app.route(\"/\")\n",
        "#    def hello_world():\n",
        " #       return \"Hello, World!\"\n",
        "\n",
        " #   if __name__ == \"__main__\":\n",
        " #       app.run(debug=True)"
      ],
      "metadata": {
        "id": "L7qlhypbBU6b"
      },
      "execution_count": null,
      "outputs": []
    },
    {
      "cell_type": "code",
      "source": [
        "#Q6.  What are HTTP methods used in RESTful APIs?\n",
        "#Answer. RESTful APIs leverage standard HTTP methods to perform operations on resources. These methods dictate the intended action on a given resource, aligning with the Create, Read, Update, Delete (CRUD) paradigm.\n",
        "#The most commonly used HTTP methods in RESTful APIs are:\n",
        "#GET: Retrieves a representation of the specified resource. This method is safe and idempotent, meaning it doesn't alter the server's state and repeated requests yield the same result.\n",
        "\n",
        "#GET /users/123\n",
        "\n",
        "#POST: Submits data to the specified resource, often resulting in the creation of a new resource or a change in the state of a target resource. This method is neither safe nor idempotent.\n",
        "#POST /users\n",
        "#Body: { \"name\": \"Alice\", \"email\": \"alice@example.com\" }\n",
        "\n",
        "\n",
        "#PUT: Replaces all current representations of the target resource with the request payload. If the resource does not exist, PUT can create it. This method is idempotent.\n",
        "#PUT /users/123\n",
        "#Body: { \"name\": \"Alice Smith\", \"email\": \"alice@newmail.com\" }\n",
        "\n",
        "\n",
        "#PATCH: Applies partial modifications to a resource. Unlike PUT, PATCH only sends the changes to be applied, rather than the entire resource representation. This method is not necessarily idempotent.\n",
        "#PATCH /users/123\n",
        "#Body: { \"email\": \"alice@newmail.com\" }\n",
        "\n",
        "#DELETE: Deletes the specified resource. This method is idempotent.\n",
        "#DELETE /users/123\n",
        "\n",
        "#Other less frequently used HTTP methods in RESTful contexts include:\n",
        "#HEAD: Similar to GET, but only retrieves the header information of a resource, without the body.\n",
        "#OPTIONS: Describes the communication options for the target resource, useful for discovering API capabilities.\n"
      ],
      "metadata": {
        "id": "5CvshqagBU33"
      },
      "execution_count": null,
      "outputs": []
    },
    {
      "cell_type": "code",
      "source": [
        "#Q7.  What is the purpose of the @app.route() decorator in Flask?\n",
        "#Answer. The primary purpose of the @app.route() decorator in Flask is to associate a URL path with a Python function, effectively defining how your Flask application responds to specific web requests.\n",
        "\"\"\"\n",
        "Here's a breakdown of its function:\n",
        "URL Routing: It maps a given URL route (e.g., /, /users, /products/<id>) to a specific Python function within your Flask application. When a client (like a web browser) requests that URL, Flask knows which function to execute to handle the request.\n",
        "Request Handling: The decorated function then contains the logic to process the incoming request, perform any necessary operations (like database queries), and return a response to the client.\n",
        "Readability and Organization: Using decorators provides a clean and concise way to define routes directly above the functions that handle them, improving the readability and organization of your Flask application's code.\n",
        "\"\"\"\n",
        "from flask import Flask\n",
        "\n",
        "app = Flask(__name__)\n",
        "\n",
        "@app.route('/')\n",
        "def home():\n",
        "    return \"Welcome to the homepage!\"\n",
        "\n",
        "@app.route('/about')\n",
        "def about():\n",
        "    return \"This is the about page.\""
      ],
      "metadata": {
        "id": "PGZgYqgzBU0u"
      },
      "execution_count": null,
      "outputs": []
    },
    {
      "cell_type": "code",
      "source": [
        "#Q8.  What is the difference between GET and POST HTTP methods?\n",
        "#answer. The fundamental difference between GET and POST HTTP methods lies in their purpose and how they handle data:\n",
        "#GET Method:\n",
        "#Purpose: Primarily used to retrieve data from a specified resource on the server.\n",
        "#Data Transmission: Data is sent as part of the URL's query string (e.g., example.com/search?query=keyword).\n",
        "#Visibility: Data is visible in the URL, making it unsuitable for sensitive information like passwords.\n",
        "#Caching: GET requests are often cacheable, improving performance for repeated requests.\n",
        "#Bookmarks/Sharing: GET requests can be easily bookmarked and shared because the entire request is contained within the URL.\n",
        "#Idempotence: GET requests are considered idempotent, meaning making the same request multiple times will have the same effect as making it once (it only retrieves data, it doesn't change server state).\n",
        "#POST Method:\n",
        "#Purpose: Primarily used to submit data to a specified resource on the server, typically to create or update a resource.\n",
        "#Data Transmission: Data is sent in the body of the HTTP request, separate from the URL.\n",
        "#Visibility: Data is not visible in the URL, making it suitable for sensitive information.\n",
        "#Caching: POST requests are typically not cached.\n",
        "#Bookmarks/Sharing: POST requests cannot be easily bookmarked or shared in the same way as GET requests, as the data is not part of the URL.\n",
        "#Idempotence: POST requests are generally not idempotent, as repeatedly submitting the same POST request might create multiple resources or modify data multiple times."
      ],
      "metadata": {
        "id": "y2kxnjMABUwd"
      },
      "execution_count": null,
      "outputs": []
    },
    {
      "cell_type": "code",
      "source": [
        "#Q9 . How do you handle errors in Flask APIs?\n",
        "#Answer. Error handling in a Flask API involves catching exceptions and returning appropriate, informative responses to the client. This typically includes:\n",
        "\"\"\"\n",
        "1. Using Flask's errorhandler Decorator:\n",
        "Register custom functions to handle specific HTTP errors (e.g., 404 Not Found, 500 Internal Server Error) or Python exceptions.\n",
        "The handler function receives the error object as an argument and should return a Response object with a relevant status code and a clear error message.\n",
        "\"\"\"\n",
        "from flask import Flask, jsonify, abort\n",
        "\n",
        "app = Flask(__name__)\n",
        "\n",
        "@app.errorhandler(404)\n",
        "def not_found_error(error):\n",
        "    return jsonify({\"message\": \"Resource not found\"}), 404\n",
        "\n",
        "@app.errorhandler(500)\n",
        "def internal_server_error(error):\n",
        "    return jsonify({\"message\": \"An internal server error occurred\"}), 500\n",
        "\n",
        "# You can also handle custom exceptions\n",
        "class CustomAPIError(Exception):\n",
        "    status_code = 400\n",
        "    def __init__(self, message, status_code=None):\n",
        "        Exception.__init__(self)\n",
        "        self.message = message\n",
        "        if status_code is not None:\n",
        "            self.status_code = status_code\n",
        "\n",
        "@app.errorhandler(CustomAPIError)\n",
        "def handle_custom_api_error(error):\n",
        "    response = jsonify({\"message\": error.message})\n",
        "    response.status_code = error.status_code\n",
        "    return response\n",
        "\n",
        "@app.route('/data/<int:item_id>')\n",
        "def get_data(item_id):\n",
        "    if item_id == 0:\n",
        "        raise CustomAPIError(\"Invalid item ID\", status_code=400)\n",
        "    if item_id != 123:\n",
        "        abort(404) # Triggers the 404 error handler\n",
        "    return jsonify({\"item\": \"Example Item\"})\n",
        "\n",
        "if __name__ == '__main__':\n",
        "    app.run(debug=True)\n",
        "\"\"\"\n",
        "#2. Raising HTTP Exceptions with abort():\n",
        "#The abort() function from Flask can be used to immediately terminate a request and raise an HTTP exception, which will then be caught by the corresponding errorhandler.\n",
        "#3. Custom Exception Classes:\n",
        "#Define custom exception classes for specific application-level errors. These classes can carry additional information like custom error messages and HTTP status codes, making error handling more structured and explicit.\n",
        "#4. Returning Consistent Error Responses:\n",
        "#Ensure that all error responses follow a consistent format (e.g., JSON with a message field and a status_code or error_code field) to provide a predictable interface for API consumers.\n",
        "#By implementing these strategies, you can effectively manage errors in your Flask API, providing robust and user-friendly feedback to clients.\n",
        "\"\"\""
      ],
      "metadata": {
        "colab": {
          "base_uri": "https://localhost:8080/",
          "height": 209
        },
        "id": "fUl0sljFBUuX",
        "outputId": "6e6334b6-271b-4842-a46e-d572b07b9b08"
      },
      "execution_count": null,
      "outputs": [
        {
          "output_type": "stream",
          "name": "stdout",
          "text": [
            " * Serving Flask app '__main__'\n",
            " * Debug mode: on\n"
          ]
        },
        {
          "output_type": "stream",
          "name": "stderr",
          "text": [
            "INFO:werkzeug:\u001b[31m\u001b[1mWARNING: This is a development server. Do not use it in a production deployment. Use a production WSGI server instead.\u001b[0m\n",
            " * Running on http://127.0.0.1:5000\n",
            "INFO:werkzeug:\u001b[33mPress CTRL+C to quit\u001b[0m\n",
            "INFO:werkzeug: * Restarting with watchdog (inotify)\n"
          ]
        },
        {
          "output_type": "execute_result",
          "data": {
            "text/plain": [
              "'\\n#2. Raising HTTP Exceptions with abort():\\n#The abort() function from Flask can be used to immediately terminate a request and raise an HTTP exception, which will then be caught by the corresponding errorhandler.\\n#3. Custom Exception Classes:\\n#Define custom exception classes for specific application-level errors. These classes can carry additional information like custom error messages and HTTP status codes, making error handling more structured and explicit.\\n#4. Returning Consistent Error Responses:\\n#Ensure that all error responses follow a consistent format (e.g., JSON with a message field and a status_code or error_code field) to provide a predictable interface for API consumers.\\n#By implementing these strategies, you can effectively manage errors in your Flask API, providing robust and user-friendly feedback to clients.\\n'"
            ],
            "application/vnd.google.colaboratory.intrinsic+json": {
              "type": "string"
            }
          },
          "metadata": {},
          "execution_count": 7
        }
      ]
    },
    {
      "cell_type": "code",
      "source": [
        "#Q10.  How do you connect Flask to a SQL database?\n",
        "#Answer.  1. Install dependencies\n",
        "# pip install Flask\n",
        "#pip install Flask-SQLAlchemy\n",
        "#2. Set up Flask app and database config.\n",
        "from flask import Flask\n",
        "from flask_sqlalchemy import SQLAlchemy\n",
        "\n",
        "app = Flask(__name__)\n",
        "# Configure your database URI (example with SQLite)\n",
        "app.config['SQLALCHEMY_DATABASE_URI'] = 'sqlite:///mydatabase.db'\n",
        "\n",
        "# Optional: silence warning\n",
        "app.config['SQLALCHEMY_TRACK_MODIFICATIONS'] = False\n",
        "\n",
        "db = SQLAlchemy(app)\n",
        "\n",
        "#3. Define your database model(s)\n",
        "class User(db.Model):\n",
        "    id = db.Column(db.Integer, primary_key=True)\n",
        "    username = db.Column(db.String(80), unique=True, nullable=False)\n",
        "    email = db.Column(db.String(120), unique=True, nullable=False)\n",
        "\n",
        "    def __repr__(self):\n",
        "        return f'<User {self.username}>'\n",
        "\n",
        "#4. Create the database\n",
        "#In your Python shell or a script, run:\n",
        "#from app import db\n",
        "#db.create_all()  # This creates the tables in the database\n",
        "\n",
        "#5. Use the database in your routes\n",
        "#Example route to add and query users:\n",
        "from flask import request, jsonify\n",
        "\n",
        "@app.route('/add_user', methods=['POST'])\n",
        "def add_user():\n",
        "    data = request.get_json()\n",
        "    new_user = User(username=data['username'], email=data['email'])\n",
        "    db.session.add(new_user)\n",
        "    db.session.commit()\n",
        "    return jsonify({'message': 'User added!'}), 201\n",
        "\n",
        "@app.route('/users')\n",
        "def get_users():\n",
        "    users = User.query.all()\n",
        "    return jsonify([{'username': u.username, 'email': u.email} for u in users])"
      ],
      "metadata": {
        "id": "ojHb8X3VBUr6"
      },
      "execution_count": null,
      "outputs": []
    },
    {
      "cell_type": "code",
      "metadata": {
        "colab": {
          "base_uri": "https://localhost:8080/"
        },
        "id": "299c6f38",
        "outputId": "c43e932a-9344-4ef4-99ce-141d43cf87a0"
      },
      "source": [
        "!pip install Flask-SQLAlchemy"
      ],
      "execution_count": null,
      "outputs": [
        {
          "output_type": "stream",
          "name": "stdout",
          "text": [
            "Collecting Flask-SQLAlchemy\n",
            "  Downloading flask_sqlalchemy-3.1.1-py3-none-any.whl.metadata (3.4 kB)\n",
            "Requirement already satisfied: flask>=2.2.5 in /usr/local/lib/python3.12/dist-packages (from Flask-SQLAlchemy) (3.1.2)\n",
            "Requirement already satisfied: sqlalchemy>=2.0.16 in /usr/local/lib/python3.12/dist-packages (from Flask-SQLAlchemy) (2.0.43)\n",
            "Requirement already satisfied: blinker>=1.9.0 in /usr/local/lib/python3.12/dist-packages (from flask>=2.2.5->Flask-SQLAlchemy) (1.9.0)\n",
            "Requirement already satisfied: click>=8.1.3 in /usr/local/lib/python3.12/dist-packages (from flask>=2.2.5->Flask-SQLAlchemy) (8.2.1)\n",
            "Requirement already satisfied: itsdangerous>=2.2.0 in /usr/local/lib/python3.12/dist-packages (from flask>=2.2.5->Flask-SQLAlchemy) (2.2.0)\n",
            "Requirement already satisfied: jinja2>=3.1.2 in /usr/local/lib/python3.12/dist-packages (from flask>=2.2.5->Flask-SQLAlchemy) (3.1.6)\n",
            "Requirement already satisfied: markupsafe>=2.1.1 in /usr/local/lib/python3.12/dist-packages (from flask>=2.2.5->Flask-SQLAlchemy) (3.0.2)\n",
            "Requirement already satisfied: werkzeug>=3.1.0 in /usr/local/lib/python3.12/dist-packages (from flask>=2.2.5->Flask-SQLAlchemy) (3.1.3)\n",
            "Requirement already satisfied: greenlet>=1 in /usr/local/lib/python3.12/dist-packages (from sqlalchemy>=2.0.16->Flask-SQLAlchemy) (3.2.4)\n",
            "Requirement already satisfied: typing-extensions>=4.6.0 in /usr/local/lib/python3.12/dist-packages (from sqlalchemy>=2.0.16->Flask-SQLAlchemy) (4.15.0)\n",
            "Downloading flask_sqlalchemy-3.1.1-py3-none-any.whl (25 kB)\n",
            "Installing collected packages: Flask-SQLAlchemy\n",
            "Successfully installed Flask-SQLAlchemy-3.1.1\n"
          ]
        }
      ]
    },
    {
      "cell_type": "code",
      "source": [
        "#Q11. What is the role of Flask-SQLAlchemy?\n",
        "#Answer:- Flask-SQLAlchemy is a Flask extension that simplifies using SQL databases in Flask applications by providing:\n",
        "\n",
        "#1. Integration of SQLAlchemy with Flask\n",
        "\n",
        "#It connects the powerful SQLAlchemy ORM (Object Relational Mapper) with Flask’s app context and configuration system.\n",
        "\n",
        "#Manages database connections and sessions automatically for you.\n",
        "\n",
        "# 2. ORM (Object Relational Mapping)\n",
        "\n",
        "# Allows you to work with databases using Python classes and objects instead of writing raw SQL queries.\n",
        "\n",
        "# For example, you define a User class, and Flask-SQLAlchemy maps it to a database table.\n",
        "\n",
        "# You can create, read, update, and delete rows as Python objects.\n",
        "\n",
        "# 3. Simplifies Configuration\n",
        "\n",
        "# Handles database URL configuration (SQLALCHEMY_DATABASE_URI) within Flask’s config.\n",
        "\n",
        "# Manages the lifecycle of the database connection inside Flask’s request/response cycle.\n",
        "\n",
        "# 4. Convenience Methods\n",
        "\n",
        "# Provides helpful utilities like db.create_all() to create tables automatically based on your models.\n",
        "\n",
        "# Makes querying easier with built-in methods (User.query.filter_by(), etc.).\n",
        "\n",
        "# 5. Supports Multiple Databases\n",
        "\n",
        "#Works with SQLite, MySQL, PostgreSQL, and more — you just change the database URI."
      ],
      "metadata": {
        "id": "NlbbZabtBUlw"
      },
      "execution_count": null,
      "outputs": []
    },
    {
      "cell_type": "code",
      "source": [
        "#Q12. What are Flask blueprints, and how are they useful?\n",
        "#Answer. Flask Blueprints are a way to organize your Flask application into modular, reusable components.\n",
        "\n",
        "#Think of blueprints as \"mini Flask apps\" -- they encapsulate routes, templates, static files, and other code.\n",
        "\n",
        "#Instead of defining all routes and logic in one big file, you split your app into multiple parts (blueprints).\n",
        "\n",
        "#Later, you register these blueprints on the main Flask app.\n",
        "\n",
        "from flask import Blueprint\n",
        "\n",
        "users_bp = Blueprint('users', __name__)\n",
        "\n",
        "@users_bp.route('/users')\n",
        "def list_users():\n",
        "    return \"List of users\""
      ],
      "metadata": {
        "id": "MKJAlao-BUhZ"
      },
      "execution_count": null,
      "outputs": []
    },
    {
      "cell_type": "code",
      "source": [
        "#Better Organization:\n",
        "#Helps keep your codebase clean and manageable, especially in large projects.\n",
        "#Group related routes, templates, and static files together.\n",
        "\n",
        "#Reusability:\n",
        "#Blueprints can be packaged and reused across different projects.\n",
        "\n",
        "#Collaboration:\n",
        "#Different teams or developers can work on different blueprints independently.\n",
        "\n",
        "#Scalability:\n",
        "#Makes scaling the app easier by splitting functionality into smaller components.\n",
        "\n",
        "from flask import Flask, Blueprint\n",
        "\n",
        "# Define the blueprint (assuming it's defined in a separate file or earlier in the notebook)\n",
        "users_bp = Blueprint('users', __name__)\n",
        "\n",
        "@users_bp.route('/users')\n",
        "def list_users():\n",
        "    return \"List of users from blueprint\"\n",
        "\n",
        "\n",
        "app = Flask(__name__)\n",
        "app.register_blueprint(users_bp)\n",
        "\n",
        "if __name__ == '__main__':\n",
        "    app.run()"
      ],
      "metadata": {
        "colab": {
          "base_uri": "https://localhost:8080/"
        },
        "id": "2PA200hPBUe9",
        "outputId": "8ec694b6-6f82-4c0a-9d2e-22c5e8de13a7"
      },
      "execution_count": null,
      "outputs": [
        {
          "output_type": "stream",
          "name": "stdout",
          "text": [
            " * Serving Flask app '__main__'\n",
            " * Debug mode: off\n"
          ]
        },
        {
          "output_type": "stream",
          "name": "stderr",
          "text": [
            "INFO:werkzeug:\u001b[31m\u001b[1mWARNING: This is a development server. Do not use it in a production deployment. Use a production WSGI server instead.\u001b[0m\n",
            " * Running on http://127.0.0.1:5000\n",
            "INFO:werkzeug:\u001b[33mPress CTRL+C to quit\u001b[0m\n",
            "ERROR:root:Unexpected exception finding object shape\n",
            "Traceback (most recent call last):\n",
            "  File \"/usr/local/lib/python3.12/dist-packages/google/colab/_debugpy_repr.py\", line 54, in get_shape\n",
            "    shape = getattr(obj, 'shape', None)\n",
            "            ^^^^^^^^^^^^^^^^^^^^^^^^^^^\n",
            "  File \"/usr/local/lib/python3.12/dist-packages/werkzeug/local.py\", line 318, in __get__\n",
            "    obj = instance._get_current_object()\n",
            "          ^^^^^^^^^^^^^^^^^^^^^^^^^^^^^^\n",
            "  File \"/usr/local/lib/python3.12/dist-packages/werkzeug/local.py\", line 519, in _get_current_object\n",
            "    raise RuntimeError(unbound_message) from None\n",
            "RuntimeError: Working outside of request context.\n",
            "\n",
            "This typically means that you attempted to use functionality that needed\n",
            "an active HTTP request. Consult the documentation on testing for\n",
            "information about how to avoid this problem.\n"
          ]
        }
      ]
    },
    {
      "cell_type": "code",
      "source": [
        "#Q13. What is the purpose of Flask's request object?\n",
        "#Answer. The purpose of Flask's request object is to provide a comprehensive interface for accessing information about an incoming HTTP request within a Flask application. It acts as a container for all the data sent from the client to the server during a web request.\n",
        "\"\"\"\n",
        "This object allows developers to retrieve various pieces of information, including:\n",
        "HTTP Method: The request.method attribute returns the HTTP method used in the request (e.g., 'GET', 'POST', 'PUT', 'DELETE').\n",
        "Form Data: For requests with form submissions (typically POST or PUT), request.form provides access to the submitted form fields as a dictionary-like object.\n",
        "Query Parameters: request.args allows access to the parameters included in the URL's query string (e.g., ?key=value).\n",
        "Headers: request.headers provides access to the HTTP headers sent with the request.\n",
        "JSON Data: request.get_json() can be used to parse and retrieve JSON data sent in the request body.\n",
        "Files: request.files provides access to uploaded files.\n",
        "Cookies: request.cookies allows reading cookies sent by the client.\n",
        "By providing this centralized access to request data, the request object simplifies the process of handling incoming requests, processing user input, and building dynamic web applications with Flask.\n",
        "\"\"\"\n",
        "from flask import Flask, request, jsonify\n",
        "\n",
        "app = Flask(__name__)\n",
        "\n",
        "@app.route('/greet', methods=['GET'])\n",
        "def greet():\n",
        "    name = request.args.get('name', 'Guest')\n",
        "    return f\"Hello, {name}!\"\n",
        "\n",
        "@app.route('/submit', methods=['POST'])\n",
        "def submit():\n",
        "    data = request.get_json()\n",
        "    return jsonify({\"you_sent\": data})"
      ],
      "metadata": {
        "id": "x2rCSSnoBUdL"
      },
      "execution_count": null,
      "outputs": []
    },
    {
      "cell_type": "code",
      "source": [
        "#Q14.  How do you create a RESTful API endpoint using Flask?\n",
        "#Answer:- Creating a RESTful API endpoint using Flask involves defining routes that correspond to specific HTTP methods (GET, POST, PUT, DELETE) and associating them with functions that handle the logic for each method.\n",
        "#2. Defining Routes and Endpoints:\n",
        "#Use the @app.route() decorator: This decorator maps a URL path to a function and specifies the allowed HTTP methods.\n",
        "#Handle different HTTP methods within the same route (optional): You can define separate functions for each method or use conditional logic within a single function based on request.method.\n",
        "#Return JSON responses: Use jsonify() to convert Python dictionaries or lists into JSON format for API responses.\n",
        "from flask import Flask, jsonify\n",
        "\n",
        "app = Flask(__name__)\n",
        "\n",
        "# Sample data (simulating a database)\n",
        "items = [\n",
        "    {\"id\": 1, \"name\": \"Item A\"},\n",
        "    {\"id\": 2, \"name\": \"Item B\"}\n",
        "]\n",
        "\n",
        "@app.route('/items', methods=['GET'])\n",
        "def get_items():\n",
        "    return jsonify(items)\n",
        "\n",
        "if __name__ == '__main__':\n",
        "    app.run(debug=True)"
      ],
      "metadata": {
        "colab": {
          "base_uri": "https://localhost:8080/"
        },
        "id": "erQBcw-7BUaz",
        "outputId": "967a62b1-cd6b-4da0-f9b1-e5ace585d47a"
      },
      "execution_count": null,
      "outputs": [
        {
          "output_type": "stream",
          "name": "stdout",
          "text": [
            " * Serving Flask app '__main__'\n",
            " * Debug mode: on\n"
          ]
        },
        {
          "output_type": "stream",
          "name": "stderr",
          "text": [
            "INFO:werkzeug:\u001b[31m\u001b[1mWARNING: This is a development server. Do not use it in a production deployment. Use a production WSGI server instead.\u001b[0m\n",
            " * Running on http://127.0.0.1:5000\n",
            "INFO:werkzeug:\u001b[33mPress CTRL+C to quit\u001b[0m\n",
            "INFO:werkzeug: * Restarting with watchdog (inotify)\n",
            "ERROR:root:Unexpected exception finding object shape\n",
            "Traceback (most recent call last):\n",
            "  File \"/usr/local/lib/python3.12/dist-packages/google/colab/_debugpy_repr.py\", line 54, in get_shape\n",
            "    shape = getattr(obj, 'shape', None)\n",
            "            ^^^^^^^^^^^^^^^^^^^^^^^^^^^\n",
            "  File \"/usr/local/lib/python3.12/dist-packages/werkzeug/local.py\", line 318, in __get__\n",
            "    obj = instance._get_current_object()\n",
            "          ^^^^^^^^^^^^^^^^^^^^^^^^^^^^^^\n",
            "  File \"/usr/local/lib/python3.12/dist-packages/werkzeug/local.py\", line 519, in _get_current_object\n",
            "    raise RuntimeError(unbound_message) from None\n",
            "RuntimeError: Working outside of request context.\n",
            "\n",
            "This typically means that you attempted to use functionality that needed\n",
            "an active HTTP request. Consult the documentation on testing for\n",
            "information about how to avoid this problem.\n"
          ]
        }
      ]
    },
    {
      "cell_type": "code",
      "source": [
        "#Q15.  What is the purpose of Flask's jsonify() function\n",
        "#Answer. Flask's jsonify() function serves a specific purpose in web development, particularly when building APIs with Flask. Its primary function is to simplify the process of returning JSON (JavaScript Object Notation) responses from Flask routes.\n",
        "# Here's a breakdown of its key purposes:\n",
        "# Serialization to JSON: It converts Python data structures, such as dictionaries and lists, into a JSON formatted string. This is essential because web clients typically expect data in JSON format for API interactions.\n",
        "# Creating a Flask Response Object: Instead of just returning a raw JSON string, jsonify() wraps the JSON data within a proper Flask Response object. This object is what Flask uses to send the response back to the client.\n",
        "# Setting the Content-Type Header: Crucially, jsonify() automatically sets the Content-Type header of the response to application/json. This header informs the client (e.g., a web browser or another API consumer) that the response body contains JSON data, allowing it to parse the data correctly.\n",
        "# In essence, jsonify() streamlines the process of sending JSON data as a response from a Flask application, making it a convenient helper function for building RESTful APIs.\n",
        "from flask import Flask, jsonify\n",
        "\n",
        "app = Flask(__name__)\n",
        "\n",
        "@app.route('/data')\n",
        "def get_data():\n",
        "    data = {\n",
        "        'name': 'Alice',\n",
        "        'age': 30,\n",
        "        'city': 'New York'\n",
        "    }\n",
        "    return jsonify(data)\n",
        "\n",
        "if __name__ == '__main__':\n",
        "    app.run(debug=True)\n"
      ],
      "metadata": {
        "colab": {
          "base_uri": "https://localhost:8080/"
        },
        "id": "Dmek3mUSBUYB",
        "outputId": "00fb644a-8a92-49b9-e193-5c52f6bb6675"
      },
      "execution_count": null,
      "outputs": [
        {
          "output_type": "stream",
          "name": "stdout",
          "text": [
            " * Serving Flask app '__main__'\n",
            " * Debug mode: on\n"
          ]
        },
        {
          "output_type": "stream",
          "name": "stderr",
          "text": [
            "INFO:werkzeug:\u001b[31m\u001b[1mWARNING: This is a development server. Do not use it in a production deployment. Use a production WSGI server instead.\u001b[0m\n",
            " * Running on http://127.0.0.1:5000\n",
            "INFO:werkzeug:\u001b[33mPress CTRL+C to quit\u001b[0m\n",
            "INFO:werkzeug: * Restarting with watchdog (inotify)\n",
            "ERROR:root:Unexpected exception finding object shape\n",
            "Traceback (most recent call last):\n",
            "  File \"/usr/local/lib/python3.12/dist-packages/google/colab/_debugpy_repr.py\", line 54, in get_shape\n",
            "    shape = getattr(obj, 'shape', None)\n",
            "            ^^^^^^^^^^^^^^^^^^^^^^^^^^^\n",
            "  File \"/usr/local/lib/python3.12/dist-packages/werkzeug/local.py\", line 318, in __get__\n",
            "    obj = instance._get_current_object()\n",
            "          ^^^^^^^^^^^^^^^^^^^^^^^^^^^^^^\n",
            "  File \"/usr/local/lib/python3.12/dist-packages/werkzeug/local.py\", line 519, in _get_current_object\n",
            "    raise RuntimeError(unbound_message) from None\n",
            "RuntimeError: Working outside of request context.\n",
            "\n",
            "This typically means that you attempted to use functionality that needed\n",
            "an active HTTP request. Consult the documentation on testing for\n",
            "information about how to avoid this problem.\n"
          ]
        }
      ]
    },
    {
      "cell_type": "code",
      "source": [
        "#Q16.  Explain Flask’s url_for() function?\n",
        "#answer:- Flask's url_for() function dynamically generates URLs for specific view functions or static files within a Flask application. This function is a key part of Flask's URL building capabilities, offering several advantages over hardcoding URLs:\n",
        "#Dynamic URL Generation: Instead of manually writing out URLs, url_for() constructs them based on the name of the associated view function or endpoint. This ensures that if a URL pattern changes in your routing definition, url_for() automatically adapts, preventing broken links.\n",
        "#Flexibility with Variable URLs: For routes that include variable parts (e.g., <int:user_id>), url_for() allows you to pass these variables as keyword arguments, and it will correctly embed them into the generated URL.\n",
        "from flask import Flask, url_for\n",
        "\n",
        "app = Flask(__name__)\n",
        "\n",
        "@app.route('/user/<username>')\n",
        "def show_user_profile(username):\n",
        "    return f'User: {username}'\n",
        "\n",
        "with app.test_request_context():\n",
        "    print(url_for('show_user_profile', username='Alice'))"
      ],
      "metadata": {
        "colab": {
          "base_uri": "https://localhost:8080/"
        },
        "id": "6SdxCgX-BUVV",
        "outputId": "5de174ea-9541-4992-a9ea-dc0ff5cc6db3"
      },
      "execution_count": null,
      "outputs": [
        {
          "output_type": "stream",
          "name": "stdout",
          "text": [
            "/user/Alice\n"
          ]
        }
      ]
    },
    {
      "cell_type": "code",
      "source": [
        "#Handling Static Files: url_for() can also generate URLs for static files (CSS, JavaScript, images) by referencing the special 'static' endpoint and providing the filename as the filename argument.\n",
        "from flask import Flask, url_for\n",
        "\n",
        "app = Flask(__name__)\n",
        "\n",
        "with app.test_request_context():\n",
        "    print(url_for('static', filename='css/style.css'))\n",
        "\n",
        "# Integration with Templates: url_for() is commonly used within Jinja2 templates to create links to other parts of the application or to static resources, making templates more robust and maintainable."
      ],
      "metadata": {
        "colab": {
          "base_uri": "https://localhost:8080/"
        },
        "id": "v_o0-6HjBUTg",
        "outputId": "3229ac45-9104-4bc3-f30f-dde8de6d9232"
      },
      "execution_count": null,
      "outputs": [
        {
          "output_type": "stream",
          "name": "stdout",
          "text": [
            "/static/css/style.css\n"
          ]
        }
      ]
    },
    {
      "cell_type": "code",
      "source": [
        "# Q17.  How does Flask handle static files (CSS, JavaScript, etc.)?\n",
        "#Answer:- Flask simplifies the handling of static files like CSS stylesheets, JavaScript files, and images by providing a dedicated mechanism for serving them.\n",
        "#Static Folder: By convention, Flask applications organize static files within a folder named static located in the application's root directory. This static folder can contain subfolders to further categorize files (e.g., static/css, static/js, static/img).\n",
        "#url_for() Function: Flask's url_for() function is used to generate URLs for static files. This function takes two arguments:\n",
        "#'static': This indicates that a URL for a static file is being requested.\n",
        "#filename: This is the path to the static file relative to the static folder.\n",
        "\n",
        "#Example:\n",
        "#To link a CSS file named style.css located in static/css, the following Jinja2 template code would be used:\n",
        "\n",
        "#    <link rel=\"stylesheet\" href=\"{{ url_for('static', filename='css/style.css') }}\">\n",
        "#Similarly, for a JavaScript file named script.js in static/js:\n",
        "\n",
        "#    <script src=\"{{ url_for('static', filename='js/script.js') }}\"></script>\n",
        "\n",
        "#Automatic Serving: Flask automatically creates a static endpoint that maps requests for URLs starting with /static to the files within the designated static folder. When a browser requests a static file using the URL generated by url_for(), Flask serves the corresponding file from the static directory.\n"
      ],
      "metadata": {
        "id": "BN7FqUGPBURe"
      },
      "execution_count": null,
      "outputs": []
    },
    {
      "cell_type": "code",
      "source": [
        "# Q18.  What is an API specification, and how does it help in building a Flask API?\n",
        "#Answer:- An API specification is a formal, machine-readable document that describes the design and expected behavior of an Application Programming Interface (API). It serves as a contract between API providers and consumers, detailing aspects such as:\n",
        "#Endpoints and Paths: The URLs where API resources are accessible.\n",
        "#HTTP Methods: The operations (GET, POST, PUT, DELETE, etc.) supported for each endpoint.\n",
        "#Request Parameters: The data required in requests (query parameters, path parameters, request body).\n",
        "#Response Structures: The data formats and possible responses (including error responses) returned by the API.\n",
        "#Data Models/Schemas: The structure and types of data used in requests and responses.\n",
        "#Authentication and Security: How users or applications authenticate and authorize access.\n",
        "#How it helps in building a Flask API:\n",
        "#Clear Design and Planning: An API specification forces a clear and comprehensive design upfront, reducing ambiguity and potential rework during development. This ensures all stakeholders (developers, testers, documentation writers) are aligned on the API's functionality.\n",
        "#Automated Documentation Generation: Tools like Swagger UI or Redoc can automatically generate interactive API documentation directly from an OpenAPI (formerly Swagger) specification. This provides developers with up-to-date and easily explorable documentation for your Flask API.\n",
        "#Code Generation (Optional): Some tools can generate client-side or even server-side code stubs based on an API specification, potentially accelerating development by providing a starting point for your Flask routes and data handling.\n",
        "#Testing and Validation: The specification provides a clear basis for writing automated tests, ensuring that your Flask API adheres to the defined contract. Tools can validate requests and responses against the schema defined in the specification.\n",
        "#Improved Collaboration: With a clear specification, different teams or developers can work in parallel on different parts of the Flask API or on client applications consuming the API, knowing exactly what to expect from the interface.\n",
        "#asier Integration: External systems or client applications can more easily integrate with your Flask API by referring to the comprehensive and standardized specification, reducing integration time and errors."
      ],
      "metadata": {
        "id": "LIMgrCqEBUOt"
      },
      "execution_count": null,
      "outputs": []
    },
    {
      "cell_type": "code",
      "source": [
        "#Q19. What are HTTP status codes, and why are they important in a Flask API?\n",
        "#Answer. HTTP status codes are three-digit numbers returned by a server in response to an HTTP request, indicating the outcome of that request. They are a fundamental part of the HTTP protocol, providing a standardized way for the server to communicate with the client.\n",
        "#Importance in a Flask API:\n",
        "#Error Handling and Debugging: By returning appropriate status codes, Flask APIs enable clients to implement robust error handling. Developers can use these codes to diagnose issues, understand why a request failed, and provide informative messages to users.\n",
        "#API Design and Consistency: Using standard HTTP status codes promotes consistency across different API endpoints and adheres to RESTful principles, making the API more predictable and easier to consume for other applications or developers.\n",
        "#Client-Side Logic: Clients can use status codes to trigger specific actions. For instance, a client might retry a request if it receives a 5xx server error, or redirect the user if a 3xx redirection code is returned.\n",
        "\n",
        "from flask import Flask, jsonify, abort\n",
        "\n",
        "app = Flask(__name__)\n",
        "\n",
        "@app.route('/success')\n",
        "def success():\n",
        "    return jsonify({\"message\": \"Request successful!\"}), 200\n",
        "\n",
        "@app.route('/not_found')\n",
        "def not_found():\n",
        "    abort(404) # Flask's abort function raises an HTTPException with the given status code\n",
        "\n",
        "@app.route('/bad_request')\n",
        "def bad_request():\n",
        "    return jsonify({\"error\": \"Invalid input provided\"}), 400\n",
        "\n",
        "if __name__ == '__main__':\n",
        "    app.run(debug=True)"
      ],
      "metadata": {
        "colab": {
          "base_uri": "https://localhost:8080/"
        },
        "id": "T__gN9DdBUL_",
        "outputId": "28a0e30e-d7da-4d1b-b32f-1d2cf50a8b01"
      },
      "execution_count": null,
      "outputs": [
        {
          "output_type": "stream",
          "name": "stdout",
          "text": [
            " * Serving Flask app '__main__'\n",
            " * Debug mode: on\n"
          ]
        },
        {
          "output_type": "stream",
          "name": "stderr",
          "text": [
            "INFO:werkzeug:\u001b[31m\u001b[1mWARNING: This is a development server. Do not use it in a production deployment. Use a production WSGI server instead.\u001b[0m\n",
            " * Running on http://127.0.0.1:5000\n",
            "INFO:werkzeug:\u001b[33mPress CTRL+C to quit\u001b[0m\n",
            "INFO:werkzeug: * Restarting with watchdog (inotify)\n"
          ]
        }
      ]
    },
    {
      "cell_type": "code",
      "source": [
        "#Q20.  How do you handle POST requests in Flask?\n",
        "#Answer:- Handling POST requests in Flask involves defining a route that accepts the POST method and then accessing the data sent in the request. Define the Route and Methods.\n",
        "#Use the @app.route() decorator and specify methods=['POST'] (or methods=['GET', 'POST'] if the same route handles both).\n",
        "from flask import Flask, request, jsonify\n",
        "\n",
        "app = Flask(__name__)\n",
        "\n",
        "@app.route('/submit', methods=['POST'])\n",
        "def handle_post():\n",
        "    data = request.get_json()  # Parse JSON body\n",
        "    if not data or 'name' not in data:\n",
        "        return jsonify({'error': 'Name is required'}), 400  # Bad Request\n",
        "\n",
        "    name = data['name']\n",
        "    return jsonify({'message': f'Hello, {name}!'}), 201  # Created\n",
        "\n",
        "if __name__ == '__main__':\n",
        "    app.run(debug=True)\n"
      ],
      "metadata": {
        "colab": {
          "base_uri": "https://localhost:8080/"
        },
        "id": "xgdUXRwJWjD5",
        "outputId": "0f20469b-2699-48bd-8df1-eea4d2c6d7b5"
      },
      "execution_count": null,
      "outputs": [
        {
          "output_type": "stream",
          "name": "stdout",
          "text": [
            " * Serving Flask app '__main__'\n",
            " * Debug mode: on\n"
          ]
        },
        {
          "output_type": "stream",
          "name": "stderr",
          "text": [
            "INFO:werkzeug:\u001b[31m\u001b[1mWARNING: This is a development server. Do not use it in a production deployment. Use a production WSGI server instead.\u001b[0m\n",
            " * Running on http://127.0.0.1:5000\n",
            "INFO:werkzeug:\u001b[33mPress CTRL+C to quit\u001b[0m\n",
            "INFO:werkzeug: * Restarting with watchdog (inotify)\n"
          ]
        }
      ]
    },
    {
      "cell_type": "code",
      "source": [
        "#Q21. How would you secure a Flask API?\n",
        "#Answer:- 1. Authentication and Authorization:\n",
        "Token-Based Authentication (JWT): This is a common and recommended method for APIs.\n",
        "Users log in and receive a JSON Web Token (JWT).\n",
        "This token is then included in the headers of subsequent API requests.\n",
        "The API validates the token's signature and expiration, and extracts user information and permissions (scopes/claims) from it for authorization.\n",
        "Libraries like Flask-JWT-Extended can simplify this process.\n",
        "API Keys: For simpler APIs or machine-to-machine communication, static API keys can be used. These keys are typically sent in HTTP headers and are validated against a stored list of authorized keys.\n",
        "OAuth 2.0: For more complex scenarios involving third-party applications, implementing OAuth 2.0 provides a robust framework for delegated authorization.\n",
        "Role-Based Access Control (RBAC): Define different roles (e.g., admin, user) and assign specific permissions to each role. Use these roles to control access to different API endpoints or functionalities.\n",
        "2. Data Security:\n",
        "HTTPS/SSL/TLS: Always serve your API over HTTPS to encrypt data in transit, preventing eavesdropping and man-in-the-middle attacks.\n",
        "Secure Storage of Sensitive Data: Store sensitive information like passwords and API keys securely, preferably using environment variables or encrypted configuration files, and never directly in your codebase.\n",
        "Input Validation: Sanitize and validate all user input to prevent injection attacks (SQL injection, XSS) and other data manipulation vulnerabilities.\n",
        "3. Preventing Common Web Vulnerabilities:\n",
        "Cross-Site Scripting (XSS):\n",
        "Escape all user-generated content before rendering it in HTML.\n",
        "Use the Content-Disposition: attachment header for uploaded files to prevent them from being executed as HTML.\n",
        "Implement a strong Content Security Policy (CSP).\n",
        "Cross-Site Request Forgery (CSRF): While less common in pure APIs, if your Flask application also serves web pages, implement CSRF protection using Flask-WTF or similar extensions.\n",
        "SQL Injection: Use parameterized queries or ORMs (like SQLAlchemy) to prevent SQL injection when interacting with databases.\n",
        "Rate Limiting: Implement rate limiting to prevent brute-force attacks and denial-of-service (DoS) attempts. Libraries like Flask-Limiter can assist with this.\n",
        "4. Secure Configuration and Deployment:\n",
        "Secret Key: Use a strong, randomly generated secret key for your Flask application and keep it secure (e.g., environment variable).\n",
        "Error Handling: Implement robust error handling that avoids revealing sensitive information in error messages.\n",
        "Security Headers: Configure security-related HTTP headers like HSTS, CSP, and X-Content-Type-Options.\n",
        "Regular Updates: Keep Flask, its extensions, and all dependencies updated to patch known security vulnerabilities.\n",
        "Logging and Monitoring: Implement comprehensive logging to track API access and potential security events, and monitor logs for suspicious activity.\n",
        "Penetration Testing: Regularly conduct security audits and penetration testing to identify and address vulnerabilities."
      ],
      "metadata": {
        "id": "x5-EtrfWWjAQ"
      },
      "execution_count": null,
      "outputs": []
    },
    {
      "cell_type": "code",
      "source": [
        "#Q22. What is the significance of the Flask-RESTful extension?\n",
        "#Answer:- The significance of the Flask-RESTful extension is that it simplifies the creation of REST APIs in Python by providing tools and conventions that reduce boilerplate code. Instead of handling raw HTTP requests, developers can build APIs in a more structured, object-oriented way by defining resources as classes.\n",
        "#How Flask-RESTful simplifies API development\n",
        "#Class-based Resources: The core concept of Flask-RESTful is the Resource class. By defining a resource as a Python class, you can organize all the logic for a single API endpoint (like /books or /users) into one location. This is a more organized approach than writing separate, conditional functions for each HTTP method (GET, POST, PUT, DELETE).\n",
        "from flask_restful import Resource\n",
        "\n",
        "class BookList(Resource):\n",
        "    def get(self):\n",
        "        # Logic to return a list of books\n",
        "        return {\"books\": [\"Book A\", \"Book B\"]}\n",
        "\n",
        "    def post(self):\n",
        "        # Logic to create a new book\n",
        "        return {\"message\": \"Book created\"}, 201"
      ],
      "metadata": {
        "id": "EIdPu_6cWi9m"
      },
      "execution_count": null,
      "outputs": []
    },
    {
      "cell_type": "code",
      "source": [
        "#Q23. What is the role of Flask’s session object?\n",
        "#Answer. Flask's session object provides a way to store user-specific data that persists across multiple requests within a web application, allowing the server to maintain state and remember user information like login status or shopping cart contents. It functions similarly to a Python dictionary but is secured by a secret key and uses signed cookies to store and transmit this data between the server and the user's browser, ensuring the data's integrity and preventing unauthorized modification.\n",
        "\"\"\"\n",
        "How it works:\n",
        "Initialization: When an application starts with a configured SECRET_KEY, the session object is automatically set up.\n",
        "Session ID: For each user's first request, a unique session ID is generated and sent to the user's browser in a signed cookie.\n",
        "Data Storage: The session object behaves like a dictionary; you can add, retrieve, and remove data using standard dictionary syntax (e.g., session['username'] = 'Alice').\n",
        "Request Handling: On subsequent requests, Flask reads the session ID from the cookie, uses it to find the corresponding data on the server, and then makes this data available in the session object for that request.\n",
        "Security: The session data is encoded and signed using the application's SECRET_KEY, making it difficult for users or other parties to read or alter the data in the cookie.\n",
        "Common Use Cases:\n",
        "User Authentication: Storing whether a user is logged in and their username or role.\n",
        "Shopping Carts: Remembering items a user has added to their cart for an e-commerce site.\n",
        "User Preferences: Saving user settings like language preferences or display modes.\n",
        "Form Data: Temporarily storing data entered into a form to prevent its loss during navigation.\n",
        "\"\"\"\n",
        "from flask import Flask\n",
        "from flask_restful import Resource, Api, reqparse\n",
        "\n",
        "app = Flask(__name__)\n",
        "api = Api(app)\n",
        "\n",
        "class HelloWorld(Resource):\n",
        "    def get(self):\n",
        "        return {'hello': 'world'}\n",
        "\n",
        "class User(Resource):\n",
        "    parser = reqparse.RequestParser()\n",
        "    parser.add_argument('name', type=str, required=True, help='Name cannot be blank!')\n",
        "\n",
        "    def post(self):\n",
        "        args = self.parser.parse_args()\n",
        "        return {'message': f\"User {args['name']} created.\"}, 201\n",
        "\n",
        "api.add_resource(HelloWorld, '/')\n",
        "api.add_resource(User, '/user')\n",
        "\n",
        "if __name__ == '__main__':\n",
        "    app.run(debug=True)"
      ],
      "metadata": {
        "colab": {
          "base_uri": "https://localhost:8080/"
        },
        "id": "dKUfAR5SWi7B",
        "outputId": "9408195c-bfe7-4e65-d096-e2ed8166f751"
      },
      "execution_count": null,
      "outputs": [
        {
          "output_type": "stream",
          "name": "stdout",
          "text": [
            " * Serving Flask app '__main__'\n",
            " * Debug mode: on\n"
          ]
        },
        {
          "output_type": "stream",
          "name": "stderr",
          "text": [
            "INFO:werkzeug:\u001b[31m\u001b[1mWARNING: This is a development server. Do not use it in a production deployment. Use a production WSGI server instead.\u001b[0m\n",
            " * Running on http://127.0.0.1:5000\n",
            "INFO:werkzeug:\u001b[33mPress CTRL+C to quit\u001b[0m\n",
            "INFO:werkzeug: * Restarting with watchdog (inotify)\n"
          ]
        }
      ]
    },
    {
      "cell_type": "code",
      "source": [
        "                                                          #  Practical"
      ],
      "metadata": {
        "id": "4LxDGsYbZcw5"
      },
      "execution_count": null,
      "outputs": []
    },
    {
      "cell_type": "code",
      "source": [
        "#Q1. How do you create a basic Flask application?\n",
        "\n",
        "# STEP 1: Install required packages\n",
        "!pip install flask-ngrok > /dev/null\n",
        "\n",
        "# STEP 2: Import packages\n",
        "from flask import Flask, render_template_string\n",
        "from flask_ngrok import run_with_ngrok\n",
        "\n",
        "# STEP 3: Initialize Flask app\n",
        "app = Flask(__name__)\n",
        "run_with_ngrok(app)  # This will expose the app via ngrok\n",
        "\n",
        "# STEP 4: Define routes and templates using render_template_string\n",
        "@app.route('/')\n",
        "def home():\n",
        "    return render_template_string(\"\"\"\n",
        "    <!DOCTYPE html>\n",
        "    <html>\n",
        "    <head>\n",
        "        <title>Home</title>\n",
        "    </head>\n",
        "    <body>\n",
        "        <h1>Welcome, {{ name }}!</h1>\n",
        "        <p>This is the home page rendered using a Flask template.</p>\n",
        "        <a href=\"{{ url_for('about') }}\">Go to About Page</a>\n",
        "    </body>\n",
        "    </html>\n",
        "    \"\"\", name=\"Alice\")\n",
        "\n",
        "@app.route('/about')\n",
        "def about():\n",
        "    return render_template_string(\"\"\"\n",
        "    <!DOCTYPE html>\n",
        "    <html>\n",
        "    <head>\n",
        "        <title>About</title>\n",
        "    </head>\n",
        "    <body>\n",
        "        <h1>About This App</h1>\n",
        "        <p>This is a basic Flask app with multiple routes and templates.</p>\n",
        "        <a href=\"{{ url_for('home') }}\">Back to Home</a>\n",
        "    </body>\n",
        "    </html>\n",
        "    \"\"\")\n",
        "\n",
        "# STEP 5: Run the app\n",
        "app.run()\n"
      ],
      "metadata": {
        "colab": {
          "base_uri": "https://localhost:8080/"
        },
        "id": "1Ya7CdWMt1G-",
        "outputId": "7e1788b1-70fb-474f-ada4-f5d1bf7c348e"
      },
      "execution_count": null,
      "outputs": [
        {
          "output_type": "stream",
          "name": "stdout",
          "text": [
            " * Serving Flask app '__main__'\n",
            " * Debug mode: off\n"
          ]
        },
        {
          "output_type": "stream",
          "name": "stderr",
          "text": [
            "INFO:werkzeug:\u001b[31m\u001b[1mWARNING: This is a development server. Do not use it in a production deployment. Use a production WSGI server instead.\u001b[0m\n",
            " * Running on http://127.0.0.1:5000\n",
            "INFO:werkzeug:\u001b[33mPress CTRL+C to quit\u001b[0m\n",
            "Exception in thread Thread-6:\n",
            "Traceback (most recent call last):\n",
            "  File \"/usr/local/lib/python3.12/dist-packages/urllib3/connection.py\", line 198, in _new_conn\n",
            "    sock = connection.create_connection(\n",
            "           ^^^^^^^^^^^^^^^^^^^^^^^^^^^^^\n",
            "  File \"/usr/local/lib/python3.12/dist-packages/urllib3/util/connection.py\", line 85, in create_connection\n",
            "    raise err\n",
            "  File \"/usr/local/lib/python3.12/dist-packages/urllib3/util/connection.py\", line 73, in create_connection\n",
            "    sock.connect(sa)\n",
            "ConnectionRefusedError: [Errno 111] Connection refused\n",
            "\n",
            "The above exception was the direct cause of the following exception:\n",
            "\n",
            "Traceback (most recent call last):\n",
            "  File \"/usr/local/lib/python3.12/dist-packages/urllib3/connectionpool.py\", line 787, in urlopen\n",
            "    response = self._make_request(\n",
            "               ^^^^^^^^^^^^^^^^^^^\n",
            "  File \"/usr/local/lib/python3.12/dist-packages/urllib3/connectionpool.py\", line 493, in _make_request\n",
            "    conn.request(\n",
            "  File \"/usr/local/lib/python3.12/dist-packages/urllib3/connection.py\", line 494, in request\n",
            "    self.endheaders()\n",
            "  File \"/usr/lib/python3.12/http/client.py\", line 1333, in endheaders\n",
            "    self._send_output(message_body, encode_chunked=encode_chunked)\n",
            "  File \"/usr/lib/python3.12/http/client.py\", line 1093, in _send_output\n",
            "    self.send(msg)\n",
            "  File \"/usr/lib/python3.12/http/client.py\", line 1037, in send\n",
            "    self.connect()\n",
            "  File \"/usr/local/lib/python3.12/dist-packages/urllib3/connection.py\", line 325, in connect\n",
            "    self.sock = self._new_conn()\n",
            "                ^^^^^^^^^^^^^^^^\n",
            "  File \"/usr/local/lib/python3.12/dist-packages/urllib3/connection.py\", line 213, in _new_conn\n",
            "    raise NewConnectionError(\n",
            "urllib3.exceptions.NewConnectionError: <urllib3.connection.HTTPConnection object at 0x7841abab8ec0>: Failed to establish a new connection: [Errno 111] Connection refused\n",
            "\n",
            "The above exception was the direct cause of the following exception:\n",
            "\n",
            "Traceback (most recent call last):\n",
            "  File \"/usr/local/lib/python3.12/dist-packages/requests/adapters.py\", line 667, in send\n",
            "    resp = conn.urlopen(\n",
            "           ^^^^^^^^^^^^^\n",
            "  File \"/usr/local/lib/python3.12/dist-packages/urllib3/connectionpool.py\", line 841, in urlopen\n",
            "    retries = retries.increment(\n",
            "              ^^^^^^^^^^^^^^^^^^\n",
            "  File \"/usr/local/lib/python3.12/dist-packages/urllib3/util/retry.py\", line 519, in increment\n",
            "    raise MaxRetryError(_pool, url, reason) from reason  # type: ignore[arg-type]\n",
            "    ^^^^^^^^^^^^^^^^^^^^^^^^^^^^^^^^^^^^^^^^^^^^^^^^^^^\n",
            "urllib3.exceptions.MaxRetryError: HTTPConnectionPool(host='localhost', port=4040): Max retries exceeded with url: /api/tunnels (Caused by NewConnectionError('<urllib3.connection.HTTPConnection object at 0x7841abab8ec0>: Failed to establish a new connection: [Errno 111] Connection refused'))\n",
            "\n",
            "During handling of the above exception, another exception occurred:\n",
            "\n",
            "Traceback (most recent call last):\n",
            "  File \"/usr/lib/python3.12/threading.py\", line 1075, in _bootstrap_inner\n",
            "    self.run()\n",
            "  File \"/usr/lib/python3.12/threading.py\", line 1433, in run\n",
            "    self.function(*self.args, **self.kwargs)\n",
            "  File \"/usr/local/lib/python3.12/dist-packages/flask_ngrok.py\", line 70, in start_ngrok\n",
            "    ngrok_address = _run_ngrok()\n",
            "                    ^^^^^^^^^^^^\n",
            "  File \"/usr/local/lib/python3.12/dist-packages/flask_ngrok.py\", line 35, in _run_ngrok\n",
            "    tunnel_url = requests.get(localhost_url).text  # Get the tunnel information\n",
            "                 ^^^^^^^^^^^^^^^^^^^^^^^^^^^\n",
            "  File \"/usr/local/lib/python3.12/dist-packages/requests/api.py\", line 73, in get\n",
            "    return request(\"get\", url, params=params, **kwargs)\n",
            "           ^^^^^^^^^^^^^^^^^^^^^^^^^^^^^^^^^^^^^^^^^^^^\n",
            "  File \"/usr/local/lib/python3.12/dist-packages/requests/api.py\", line 59, in request\n",
            "    return session.request(method=method, url=url, **kwargs)\n",
            "           ^^^^^^^^^^^^^^^^^^^^^^^^^^^^^^^^^^^^^^^^^^^^^^^^^\n",
            "  File \"/usr/local/lib/python3.12/dist-packages/requests/sessions.py\", line 589, in request\n",
            "    resp = self.send(prep, **send_kwargs)\n",
            "           ^^^^^^^^^^^^^^^^^^^^^^^^^^^^^^\n",
            "  File \"/usr/local/lib/python3.12/dist-packages/requests/sessions.py\", line 703, in send\n",
            "    r = adapter.send(request, **kwargs)\n",
            "        ^^^^^^^^^^^^^^^^^^^^^^^^^^^^^^^\n",
            "  File \"/usr/local/lib/python3.12/dist-packages/requests/adapters.py\", line 700, in send\n",
            "    raise ConnectionError(e, request=request)\n",
            "requests.exceptions.ConnectionError: HTTPConnectionPool(host='localhost', port=4040): Max retries exceeded with url: /api/tunnels (Caused by NewConnectionError('<urllib3.connection.HTTPConnection object at 0x7841abab8ec0>: Failed to establish a new connection: [Errno 111] Connection refused'))\n"
          ]
        }
      ]
    },
    {
      "cell_type": "code",
      "source": [
        "#Q2.  How do you serve static files like images or CSS in Flask?\n",
        "\n",
        "# STEP 1: Install flask-ngrok\n",
        "!pip install flask-ngrok > /dev/null\n",
        "\n",
        "# STEP 2: Import modules\n",
        "from flask import Flask, render_template_string\n",
        "from flask_ngrok import run_with_ngrok\n",
        "\n",
        "# STEP 3: Create Flask app\n",
        "app = Flask(__name__)\n",
        "run_with_ngrok(app)  # Run via ngrok in Colab\n",
        "\n",
        "# STEP 4: Home route with static-like CSS and image (via CDN)\n",
        "@app.route('/')\n",
        "def home():\n",
        "    return render_template_string(\"\"\"\n",
        "    <!DOCTYPE html>\n",
        "    <html>\n",
        "    <head>\n",
        "        <title>Static Files Example</title>\n",
        "        <!-- External CSS from CDN (Bootstrap) -->\n",
        "        <link href=\"https://cdn.jsdelivr.net/npm/bootstrap@5.3.0/dist/css/bootstrap.min.css\" rel=\"stylesheet\">\n",
        "        <style>\n",
        "            body { text-align: center; padding-top: 50px; }\n",
        "            h1 { color: #007BFF; }\n",
        "        </style>\n",
        "    </head>\n",
        "    <body>\n",
        "        <h1>Welcome to Flask with Static Files!</h1>\n",
        "        <p>This is styled using Bootstrap CSS (served externally).</p>\n",
        "        <img src=\"https://upload.wikimedia.org/wikipedia/commons/thumb/3/3c/Flask_logo.svg/512px-Flask_logo.svg.png\" width=\"150\" />\n",
        "    </body>\n",
        "    </html>\n",
        "    \"\"\")\n",
        "\n",
        "# STEP 5: Run the app\n",
        "app.run()\n"
      ],
      "metadata": {
        "colab": {
          "base_uri": "https://localhost:8080/"
        },
        "id": "UJ4enQEyZcqu",
        "outputId": "61bccd3b-dcf0-44d8-806a-aa3806f15b9c"
      },
      "execution_count": null,
      "outputs": [
        {
          "metadata": {
            "tags": null
          },
          "name": "stdout",
          "output_type": "stream",
          "text": [
            "\u001b[31mERROR: Operation cancelled by user\u001b[0m\u001b[31m\n",
            "\u001b[0m * Serving Flask app '__main__'\n",
            " * Debug mode: off\n"
          ]
        },
        {
          "metadata": {
            "tags": null
          },
          "name": "stderr",
          "output_type": "stream",
          "text": [
            "INFO:werkzeug:\u001b[31m\u001b[1mWARNING: This is a development server. Do not use it in a production deployment. Use a production WSGI server instead.\u001b[0m\n",
            " * Running on http://127.0.0.1:5000\n",
            "INFO:werkzeug:\u001b[33mPress CTRL+C to quit\u001b[0m\n",
            "Exception in thread Thread-7:\n",
            "Traceback (most recent call last):\n",
            "  File \"/usr/local/lib/python3.12/dist-packages/urllib3/connection.py\", line 198, in _new_conn\n",
            "    sock = connection.create_connection(\n",
            "           ^^^^^^^^^^^^^^^^^^^^^^^^^^^^^\n",
            "  File \"/usr/local/lib/python3.12/dist-packages/urllib3/util/connection.py\", line 85, in create_connection\n",
            "    raise err\n",
            "  File \"/usr/local/lib/python3.12/dist-packages/urllib3/util/connection.py\", line 73, in create_connection\n",
            "    sock.connect(sa)\n",
            "ConnectionRefusedError: [Errno 111] Connection refused\n",
            "\n",
            "The above exception was the direct cause of the following exception:\n",
            "\n",
            "Traceback (most recent call last):\n",
            "  File \"/usr/local/lib/python3.12/dist-packages/urllib3/connectionpool.py\", line 787, in urlopen\n",
            "    response = self._make_request(\n",
            "               ^^^^^^^^^^^^^^^^^^^\n",
            "  File \"/usr/local/lib/python3.12/dist-packages/urllib3/connectionpool.py\", line 493, in _make_request\n",
            "    conn.request(\n",
            "  File \"/usr/local/lib/python3.12/dist-packages/urllib3/connection.py\", line 494, in request\n",
            "    self.endheaders()\n",
            "  File \"/usr/lib/python3.12/http/client.py\", line 1333, in endheaders\n",
            "    self._send_output(message_body, encode_chunked=encode_chunked)\n",
            "  File \"/usr/lib/python3.12/http/client.py\", line 1093, in _send_output\n",
            "    self.send(msg)\n",
            "  File \"/usr/lib/python3.12/http/client.py\", line 1037, in send\n",
            "    self.connect()\n",
            "  File \"/usr/local/lib/python3.12/dist-packages/urllib3/connection.py\", line 325, in connect\n",
            "    self.sock = self._new_conn()\n",
            "                ^^^^^^^^^^^^^^^^\n",
            "  File \"/usr/local/lib/python3.12/dist-packages/urllib3/connection.py\", line 213, in _new_conn\n",
            "    raise NewConnectionError(\n",
            "urllib3.exceptions.NewConnectionError: <urllib3.connection.HTTPConnection object at 0x7841abedb140>: Failed to establish a new connection: [Errno 111] Connection refused\n",
            "\n",
            "The above exception was the direct cause of the following exception:\n",
            "\n",
            "Traceback (most recent call last):\n",
            "  File \"/usr/local/lib/python3.12/dist-packages/requests/adapters.py\", line 667, in send\n",
            "    resp = conn.urlopen(\n",
            "           ^^^^^^^^^^^^^\n",
            "  File \"/usr/local/lib/python3.12/dist-packages/urllib3/connectionpool.py\", line 841, in urlopen\n",
            "    retries = retries.increment(\n",
            "              ^^^^^^^^^^^^^^^^^^\n",
            "  File \"/usr/local/lib/python3.12/dist-packages/urllib3/util/retry.py\", line 519, in increment\n",
            "    raise MaxRetryError(_pool, url, reason) from reason  # type: ignore[arg-type]\n",
            "    ^^^^^^^^^^^^^^^^^^^^^^^^^^^^^^^^^^^^^^^^^^^^^^^^^^^\n",
            "urllib3.exceptions.MaxRetryError: HTTPConnectionPool(host='localhost', port=4040): Max retries exceeded with url: /api/tunnels (Caused by NewConnectionError('<urllib3.connection.HTTPConnection object at 0x7841abedb140>: Failed to establish a new connection: [Errno 111] Connection refused'))\n",
            "\n",
            "During handling of the above exception, another exception occurred:\n",
            "\n",
            "Traceback (most recent call last):\n",
            "  File \"/usr/lib/python3.12/threading.py\", line 1075, in _bootstrap_inner\n",
            "    self.run()\n",
            "  File \"/usr/lib/python3.12/threading.py\", line 1433, in run\n",
            "    self.function(*self.args, **self.kwargs)\n",
            "  File \"/usr/local/lib/python3.12/dist-packages/flask_ngrok.py\", line 70, in start_ngrok\n",
            "    ngrok_address = _run_ngrok()\n",
            "                    ^^^^^^^^^^^^\n",
            "  File \"/usr/local/lib/python3.12/dist-packages/flask_ngrok.py\", line 35, in _run_ngrok\n",
            "    tunnel_url = requests.get(localhost_url).text  # Get the tunnel information\n",
            "                 ^^^^^^^^^^^^^^^^^^^^^^^^^^^\n",
            "  File \"/usr/local/lib/python3.12/dist-packages/requests/api.py\", line 73, in get\n",
            "    return request(\"get\", url, params=params, **kwargs)\n",
            "           ^^^^^^^^^^^^^^^^^^^^^^^^^^^^^^^^^^^^^^^^^^^^\n",
            "  File \"/usr/local/lib/python3.12/dist-packages/requests/api.py\", line 59, in request\n",
            "    return session.request(method=method, url=url, **kwargs)\n",
            "           ^^^^^^^^^^^^^^^^^^^^^^^^^^^^^^^^^^^^^^^^^^^^^^^^^\n",
            "  File \"/usr/local/lib/python3.12/dist-packages/requests/sessions.py\", line 589, in request\n",
            "    resp = self.send(prep, **send_kwargs)\n",
            "           ^^^^^^^^^^^^^^^^^^^^^^^^^^^^^^\n",
            "  File \"/usr/local/lib/python3.12/dist-packages/requests/sessions.py\", line 703, in send\n",
            "    r = adapter.send(request, **kwargs)\n",
            "        ^^^^^^^^^^^^^^^^^^^^^^^^^^^^^^^\n",
            "  File \"/usr/local/lib/python3.12/dist-packages/requests/adapters.py\", line 700, in send\n",
            "    raise ConnectionError(e, request=request)\n",
            "requests.exceptions.ConnectionError: HTTPConnectionPool(host='localhost', port=4040): Max retries exceeded with url: /api/tunnels (Caused by NewConnectionError('<urllib3.connection.HTTPConnection object at 0x7841abedb140>: Failed to establish a new connection: [Errno 111] Connection refused'))\n",
            "ERROR:root:Unexpected exception finding object shape\n",
            "Traceback (most recent call last):\n",
            "  File \"/usr/local/lib/python3.12/dist-packages/google/colab/_debugpy_repr.py\", line 54, in get_shape\n",
            "    shape = getattr(obj, 'shape', None)\n",
            "            ^^^^^^^^^^^^^^^^^^^^^^^^^^^\n",
            "  File \"/usr/local/lib/python3.12/dist-packages/werkzeug/local.py\", line 318, in __get__\n",
            "    obj = instance._get_current_object()\n",
            "          ^^^^^^^^^^^^^^^^^^^^^^^^^^^^^^\n",
            "  File \"/usr/local/lib/python3.12/dist-packages/werkzeug/local.py\", line 519, in _get_current_object\n",
            "    raise RuntimeError(unbound_message) from None\n",
            "RuntimeError: Working outside of request context.\n",
            "\n",
            "This typically means that you attempted to use functionality that needed\n",
            "an active HTTP request. Consult the documentation on testing for\n",
            "information about how to avoid this problem.\n",
            "ERROR:root:Unexpected exception finding object shape\n",
            "Traceback (most recent call last):\n",
            "  File \"/usr/local/lib/python3.12/dist-packages/google/colab/_debugpy_repr.py\", line 54, in get_shape\n",
            "    shape = getattr(obj, 'shape', None)\n",
            "            ^^^^^^^^^^^^^^^^^^^^^^^^^^^\n",
            "  File \"/usr/local/lib/python3.12/dist-packages/werkzeug/local.py\", line 318, in __get__\n",
            "    obj = instance._get_current_object()\n",
            "          ^^^^^^^^^^^^^^^^^^^^^^^^^^^^^^\n",
            "  File \"/usr/local/lib/python3.12/dist-packages/werkzeug/local.py\", line 519, in _get_current_object\n",
            "    raise RuntimeError(unbound_message) from None\n",
            "RuntimeError: Working outside of request context.\n",
            "\n",
            "This typically means that you attempted to use functionality that needed\n",
            "an active HTTP request. Consult the documentation on testing for\n",
            "information about how to avoid this problem.\n",
            "ERROR:root:Unexpected exception finding object shape\n",
            "Traceback (most recent call last):\n",
            "  File \"/usr/local/lib/python3.12/dist-packages/google/colab/_debugpy_repr.py\", line 54, in get_shape\n",
            "    shape = getattr(obj, 'shape', None)\n",
            "            ^^^^^^^^^^^^^^^^^^^^^^^^^^^\n",
            "  File \"/usr/local/lib/python3.12/dist-packages/werkzeug/local.py\", line 318, in __get__\n",
            "    obj = instance._get_current_object()\n",
            "          ^^^^^^^^^^^^^^^^^^^^^^^^^^^^^^\n",
            "  File \"/usr/local/lib/python3.12/dist-packages/werkzeug/local.py\", line 519, in _get_current_object\n",
            "    raise RuntimeError(unbound_message) from None\n",
            "RuntimeError: Working outside of request context.\n",
            "\n",
            "This typically means that you attempted to use functionality that needed\n",
            "an active HTTP request. Consult the documentation on testing for\n",
            "information about how to avoid this problem.\n"
          ]
        }
      ]
    },
    {
      "cell_type": "code",
      "source": [
        "#Q3.  How do you define different routes with different HTTP methods in Flask?\n",
        "#Answer. In Flask, you can define routes that respond to different HTTP methods (like GET, POST, PUT, DELETE) using the @app.route() decorator and the methods parameter.\n",
        "from flask import Flask, request, jsonify\n",
        "\n",
        "app = Flask(__name__)\n",
        "\n",
        "# Route that accepts GET and POST\n",
        "@app.route('/user', methods=['GET', 'POST'])\n",
        "def user():\n",
        "    if request.method == 'GET':\n",
        "        return jsonify({\"message\": \"GET request received\"})\n",
        "\n",
        "    elif request.method == 'POST':\n",
        "        data = request.get_json()\n",
        "        return jsonify({\"message\": \"POST request received\", \"data\": data})\n",
        "\n",
        "# Route for PUT and DELETE\n",
        "@app.route('/user/<int:user_id>', methods=['PUT', 'DELETE'])\n",
        "def modify_user(user_id):\n",
        "    if request.method == 'PUT':\n",
        "        return jsonify({\"message\": f\"User {user_id} updated\"})\n",
        "\n",
        "    elif request.method == 'DELETE':\n",
        "        return jsonify({\"message\": f\"User {user_id} deleted\"})\n",
        "\n",
        "if __name__ == '__main__':\n",
        "    app.run(debug=True)"
      ],
      "metadata": {
        "id": "ceHnem7xZcoC",
        "colab": {
          "base_uri": "https://localhost:8080/"
        },
        "outputId": "9a1abeab-e489-4a6b-ea7f-f61af823551f"
      },
      "execution_count": null,
      "outputs": [
        {
          "output_type": "stream",
          "name": "stdout",
          "text": [
            " * Serving Flask app '__main__'\n",
            " * Debug mode: on\n"
          ]
        },
        {
          "output_type": "stream",
          "name": "stderr",
          "text": [
            "INFO:werkzeug:\u001b[31m\u001b[1mWARNING: This is a development server. Do not use it in a production deployment. Use a production WSGI server instead.\u001b[0m\n",
            " * Running on http://127.0.0.1:5000\n",
            "INFO:werkzeug:\u001b[33mPress CTRL+C to quit\u001b[0m\n",
            "INFO:werkzeug: * Restarting with watchdog (inotify)\n",
            "ERROR:root:Unexpected exception finding object shape\n",
            "Traceback (most recent call last):\n",
            "  File \"/usr/local/lib/python3.12/dist-packages/google/colab/_debugpy_repr.py\", line 54, in get_shape\n",
            "    shape = getattr(obj, 'shape', None)\n",
            "            ^^^^^^^^^^^^^^^^^^^^^^^^^^^\n",
            "  File \"/usr/local/lib/python3.12/dist-packages/werkzeug/local.py\", line 318, in __get__\n",
            "    obj = instance._get_current_object()\n",
            "          ^^^^^^^^^^^^^^^^^^^^^^^^^^^^^^\n",
            "  File \"/usr/local/lib/python3.12/dist-packages/werkzeug/local.py\", line 519, in _get_current_object\n",
            "    raise RuntimeError(unbound_message) from None\n",
            "RuntimeError: Working outside of request context.\n",
            "\n",
            "This typically means that you attempted to use functionality that needed\n",
            "an active HTTP request. Consult the documentation on testing for\n",
            "information about how to avoid this problem.\n",
            "ERROR:root:Unexpected exception finding object shape\n",
            "Traceback (most recent call last):\n",
            "  File \"/usr/local/lib/python3.12/dist-packages/google/colab/_debugpy_repr.py\", line 54, in get_shape\n",
            "    shape = getattr(obj, 'shape', None)\n",
            "            ^^^^^^^^^^^^^^^^^^^^^^^^^^^\n",
            "  File \"/usr/local/lib/python3.12/dist-packages/werkzeug/local.py\", line 318, in __get__\n",
            "    obj = instance._get_current_object()\n",
            "          ^^^^^^^^^^^^^^^^^^^^^^^^^^^^^^\n",
            "  File \"/usr/local/lib/python3.12/dist-packages/werkzeug/local.py\", line 519, in _get_current_object\n",
            "    raise RuntimeError(unbound_message) from None\n",
            "RuntimeError: Working outside of request context.\n",
            "\n",
            "This typically means that you attempted to use functionality that needed\n",
            "an active HTTP request. Consult the documentation on testing for\n",
            "information about how to avoid this problem.\n"
          ]
        }
      ]
    },
    {
      "cell_type": "code",
      "source": [
        "#Q4.  How do you render HTML templates in Flask?\n",
        "#Answer. from flask import Flask, render_template\n",
        "\n",
        "app = Flask(__name__)\n",
        "\n",
        "@app.route('/')\n",
        "def home():\n",
        "    return render_template('index.html', name=\"Alice\")\n",
        "\n",
        "if __name__ == '__main__':\n",
        "    app.run(debug=True)\n",
        "\n",
        "\n",
        "<!DOCTYPE html>\n",
        "<html>\n",
        "<head>\n",
        "    <title>Welcome</title>\n",
        "</head>\n",
        "<body>\n",
        "    <h1>Hello, {{ name }}!</h1>\n",
        "    <p>This page is rendered using Flask and Jinja2 templates.</p>\n",
        "</body>\n",
        "</html>"
      ],
      "metadata": {
        "id": "z1GMfE4OZclU",
        "colab": {
          "base_uri": "https://localhost:8080/",
          "height": 106
        },
        "outputId": "dff2a317-a0db-41e6-ef37-a4300d9b02f4"
      },
      "execution_count": null,
      "outputs": [
        {
          "output_type": "error",
          "ename": "SyntaxError",
          "evalue": "invalid syntax (ipython-input-3072830628.py, line 14)",
          "traceback": [
            "\u001b[0;36m  File \u001b[0;32m\"/tmp/ipython-input-3072830628.py\"\u001b[0;36m, line \u001b[0;32m14\u001b[0m\n\u001b[0;31m    <!DOCTYPE html>\u001b[0m\n\u001b[0m    ^\u001b[0m\n\u001b[0;31mSyntaxError\u001b[0m\u001b[0;31m:\u001b[0m invalid syntax\n"
          ]
        }
      ]
    },
    {
      "cell_type": "code",
      "source": [
        "#Q5. How can you generate URLs for routes in Flask using url_for?\n",
        "#Answer.\n",
        "#Basic Usage (for routes without variables)\n",
        "from flask import Flask, url_for\n",
        "\n",
        "app = Flask(__name__)\n",
        "\n",
        "@app.route('/')\n",
        "def home():\n",
        "    return 'Welcome!'\n",
        "\n",
        "@app.route('/about')\n",
        "def about():\n",
        "    return 'About Us'\n",
        "\n",
        "if __name__ == '__main__':\n",
        "    with app.test_request_context(): # Needed for url_for outside of a request\n",
        "        home_url = url_for('home')\n",
        "        about_url = url_for('about')\n",
        "        print(f\"Home URL: {home_url}\")\n",
        "        print(f\"About URL: {about_url}\")\n",
        "    app.run(debug=True)"
      ],
      "metadata": {
        "id": "lbf4LMrQZcil"
      },
      "execution_count": null,
      "outputs": []
    },
    {
      "cell_type": "code",
      "source": [
        "#Generating URLs for routes with variables:\n",
        "from flask import Flask, url_for\n",
        "\n",
        "app = Flask(__name__)\n",
        "\n",
        "@app.route('/user/<username>')\n",
        "def show_user(username):\n",
        "    return f\"Hello, {username}!\"\n",
        "\n",
        "@app.route('/post/<int:post_id>')\n",
        "def show_post(post_id):\n",
        "    return f\"Viewing post {post_id}\"\n",
        "\n",
        "if __name__ == '__main__':\n",
        "    with app.test_request_context():\n",
        "        user_url = url_for('show_user', username='alice')\n",
        "        post_url = url_for('show_post', post_id=123)\n",
        "        print(f\"User URL: {user_url}\")\n",
        "        print(f\"Post URL: {post_url}\")\n",
        "    app.run(debug=True)"
      ],
      "metadata": {
        "id": "EZ6htnu2mGNb"
      },
      "execution_count": null,
      "outputs": []
    },
    {
      "cell_type": "code",
      "source": [
        "Appending query parameters:\n",
        "\n",
        "from flask import Flask, url_for\n",
        "\n",
        "app = Flask(__name__)\n",
        "\n",
        "@app.route('/search')\n",
        "def search():\n",
        "    return 'Search results'\n",
        "\n",
        "if __name__ == '__main__':\n",
        "    with app.test_request_context():\n",
        "        search_url = url_for('search', q='flask tutorial', page=2)\n",
        "        print(f\"Search URL: {search_url}\")\n",
        "    app.run(debug=True)"
      ],
      "metadata": {
        "id": "HxmStRQVmGKA"
      },
      "execution_count": null,
      "outputs": []
    },
    {
      "cell_type": "code",
      "source": [
        "#Q6.  How do you handle forms in Flask?\n",
        "#Answer. # Step 1: Install flask-ngrok\n",
        "!pip install flask-ngrok > /dev/null\n",
        "\n",
        "# Step 2: Import required modules\n",
        "from flask import Flask, request, render_template_string\n",
        "from flask_ngrok import run_with_ngrok\n",
        "\n",
        "# Step 3: Initialize the Flask app\n",
        "app = Flask(__name__)\n",
        "run_with_ngrok(app)\n",
        "\n",
        "# Step 4: Define route with form handling\n",
        "@app.route('/', methods=['GET', 'POST'])\n",
        "def form_example():\n",
        "    if request.method == 'POST':\n",
        "        name = request.form['name']\n",
        "        return f\"<h2>Hello, {name}! Form submitted successfully.</h2>\"\n",
        "\n",
        "    # Render the form on GET request\n",
        "    return render_template_string(\"\"\"\n",
        "    <!DOCTYPE html>\n",
        "    <html>\n",
        "    <head><title>Flask Form</title></head>\n",
        "    <body>\n",
        "        <h1>Enter Your Name</h1>\n",
        "        <form method=\"POST\">\n",
        "            <input type=\"text\" name=\"name\" placeholder=\"Your Name\" required>\n",
        "            <button type=\"submit\">Submit</button>\n",
        "        </form>\n",
        "    </body>\n",
        "    </html>\n",
        "    \"\"\")\n",
        "\n",
        "# Step 5: Run the app\n",
        "app.run()\n"
      ],
      "metadata": {
        "id": "A1WNgtO-mGHO"
      },
      "execution_count": null,
      "outputs": []
    },
    {
      "cell_type": "code",
      "source": [
        "#Q7. How can you validate form data in Flask?\n",
        "#Answer:- # Step 1: Install flask-ngrok\n",
        "!pip install flask-ngrok > /dev/null\n",
        "\n",
        "# Step 2: Import modules\n",
        "from flask import Flask, request, render_template_string\n",
        "from flask_ngrok import run_with_ngrok\n",
        "\n",
        "# Step 3: Setup Flask app\n",
        "app = Flask(__name__)\n",
        "run_with_ngrok(app)\n",
        "\n",
        "# Step 4: Create form route with manual validation\n",
        "@app.route('/', methods=['GET', 'POST'])\n",
        "def validate_form():\n",
        "    error = ''\n",
        "    if request.method == 'POST':\n",
        "        name = request.form.get('name')\n",
        "        email = request.form.get('email')\n",
        "\n",
        "        if not name or not email:\n",
        "            error = \"Both name and email are required.\"\n",
        "        elif '@' not in email:\n",
        "            error = \"Invalid email address.\"\n",
        "        else:\n",
        "            return f\"<h2>Welcome, {name}! Your email: {email}</h2>\"\n",
        "\n",
        "    return render_template_string(\"\"\"\n",
        "    <h1>User Form</h1>\n",
        "    {% if error %}\n",
        "        <p style=\"color:red;\">{{ error }}</p>\n",
        "    {% endif %}\n",
        "    <form method=\"POST\">\n",
        "        <input type=\"text\" name=\"name\" placeholder=\"Your Name\"><br><br>\n",
        "        <input type=\"email\" name=\"email\" placeholder=\"Your Email\"><br><br>\n",
        "        <button type=\"submit\">Submit</button>\n",
        "    </form>\n",
        "    \"\"\", error=error)\n",
        "\n",
        "# Step 5: Run the app\n",
        "app.run()\n"
      ],
      "metadata": {
        "id": "x1VIArlOmGEo"
      },
      "execution_count": null,
      "outputs": []
    },
    {
      "cell_type": "code",
      "source": [
        "#Q8.  How do you manage sessions in Flask?\n",
        "#Answer. # Step 1: Install flask-ngrok\n",
        "!pip install flask-ngrok > /dev/null\n",
        "\n",
        "# Step 2: Import Flask and session-related modules\n",
        "from flask import Flask, session, redirect, url_for, request, render_template_string\n",
        "from flask_ngrok import run_with_ngrok\n",
        "\n",
        "# Step 3: Initialize app and secret key\n",
        "app = Flask(__name__)\n",
        "app.secret_key = 'your_secret_key'  # Required to use sessions\n",
        "run_with_ngrok(app)\n",
        "\n",
        "# Step 4: Home route\n",
        "@app.route('/')\n",
        "def home():\n",
        "    if 'username' in session:\n",
        "        return f\"<h2>Welcome back, {session['username']}!</h2><a href='/logout'>Logout</a>\"\n",
        "    return \"<h2>You are not logged in.</h2><a href='/login'>Login</a>\"\n",
        "\n",
        "# Step 5: Login route\n",
        "@app.route('/login', methods=['GET', 'POST'])\n",
        "def login():\n",
        "    if request.method == 'POST':\n",
        "        session['username'] = request.form['username']\n",
        "        return redirect(url_for('home'))\n",
        "    return render_template_string(\"\"\"\n",
        "        <h2>Login</h2>\n",
        "        <form method=\"POST\">\n",
        "            <input name=\"username\" placeholder=\"Enter username\">\n",
        "            <button type=\"submit\">Login</button>\n",
        "        </form>\n",
        "    \"\"\")\n",
        "\n",
        "# Step 6: Logout route\n",
        "@app.route('/logout')\n",
        "def logout():\n",
        "    session.pop('username', None)\n",
        "    return redirect(url_for('home'))\n",
        "\n",
        "# Step 7: Run the app\n",
        "app.run()\n"
      ],
      "metadata": {
        "id": "7sowmhh6yoA-"
      },
      "execution_count": null,
      "outputs": []
    },
    {
      "cell_type": "code",
      "source": [
        "#Q9.  How do you redirect to a different route in Flask?\n",
        "#Answer. # Step 1: Install flask-ngrok\n",
        "!pip install flask-ngrok > /dev/null\n",
        "\n",
        "# Step 2: Import modules\n",
        "from flask import Flask, redirect, url_for\n",
        "from flask_ngrok import run_with_ngrok\n",
        "\n",
        "# Step 3: Initialize app\n",
        "app = Flask(__name__)\n",
        "run_with_ngrok(app)\n",
        "\n",
        "# Step 4: Define routes\n",
        "@app.route('/')\n",
        "def home():\n",
        "    return \"This is the Home Page.\"\n",
        "\n",
        "@app.route('/redirect-me')\n",
        "def redirect_me():\n",
        "    # Redirect to the home page route\n",
        "    return redirect(url_for('home'))\n",
        "\n",
        "# Step 5: Run app\n",
        "app.run()\n"
      ],
      "metadata": {
        "id": "_rv0RCYgyn9e"
      },
      "execution_count": null,
      "outputs": []
    },
    {
      "cell_type": "code",
      "source": [
        "#Q10.  How do you handle errors in Flask (e.g., 404)?\n",
        "#Answer. # Step 1: Install flask-ngrok\n",
        "!pip install flask-ngrok > /dev/null\n",
        "\n",
        "# Step 2: Import modules\n",
        "from flask import Flask, render_template_string\n",
        "from flask_ngrok import run_with_ngrok\n",
        "\n",
        "# Step 3: Initialize app\n",
        "app = Flask(__name__)\n",
        "run_with_ngrok(app)\n",
        "\n",
        "# Step 4: Define a simple route\n",
        "@app.route('/')\n",
        "def home():\n",
        "    return \"Welcome to the Home Page!\"\n",
        "\n",
        "# Step 5: Custom 404 error handler\n",
        "@app.errorhandler(404)\n",
        "def page_not_found(e):\n",
        "    return render_template_string(\"\"\"\n",
        "    <h1>404 Error</h1>\n",
        "    <p>Oops! The page you are looking for does not exist.</p>\n",
        "    \"\"\"), 404\n",
        "\n",
        "# Step 6: Run the app\n",
        "app.run()\n"
      ],
      "metadata": {
        "id": "n5cdyimdyn6m"
      },
      "execution_count": null,
      "outputs": []
    },
    {
      "cell_type": "code",
      "source": [
        "#Q11.  How do you structure a Flask app using Blueprints?\n",
        "#Answer. # Step 1: Install flask-ngrok to run Flask in Colab\n",
        "!pip install flask-ngrok > /dev/null\n",
        "\n",
        "from flask import Flask, Blueprint\n",
        "from flask_ngrok import run_with_ngrok\n",
        "\n",
        "# Step 2: Define 'auth' blueprint\n",
        "auth_bp = Blueprint('auth', __name__, url_prefix='/auth')\n",
        "\n",
        "@auth_bp.route('/login')\n",
        "def login():\n",
        "    return \"Login Page\"\n",
        "\n",
        "@auth_bp.route('/logout')\n",
        "def logout():\n",
        "    return \"Logout Page\"\n",
        "\n",
        "# Step 3: Define 'blog' blueprint\n",
        "blog_bp = Blueprint('blog', __name__, url_prefix='/blog')\n",
        "\n",
        "@blog_bp.route('/')\n",
        "def blog_home():\n",
        "    return \"Blog Home\"\n",
        "\n",
        "@blog_bp.route('/post/<int:post_id>')\n",
        "def post(post_id):\n",
        "    return f\"Viewing post {post_id}\"\n",
        "\n",
        "# Step 4: Create the main app and register blueprints\n",
        "app = Flask(__name__)\n",
        "run_with_ngrok(app)\n",
        "\n",
        "app.register_blueprint(auth_bp)\n",
        "app.register_blueprint(blog_bp)\n",
        "\n",
        "@app.route('/')\n",
        "def home():\n",
        "    return \"Main Home Page\"\n",
        "\n",
        "# Step 5: Run the Flask app\n",
        "app.run()\n"
      ],
      "metadata": {
        "id": "pgm98yykyn37"
      },
      "execution_count": null,
      "outputs": []
    },
    {
      "cell_type": "code",
      "source": [
        "#Q12. How do you define a custom Jinja filter in Flask?\n",
        "#Answer. from flask import Flask, render_template_string\n",
        "\n",
        "app = Flask(__name__)\n",
        "\n",
        "# Step 1: Define a custom filter function\n",
        "def reverse_string(s):\n",
        "    return s[::-1]\n",
        "\n",
        "# Step 2: Register the filter with Flask\n",
        "app.template_filter('reverse')(reverse_string)\n",
        "# Alternatively: app.jinja_env.filters['reverse'] = reverse_string\n",
        "\n",
        "# Step 3: Use the filter in a template\n",
        "@app.route('/')\n",
        "def index():\n",
        "    sample_text = \"Hello Flask\"\n",
        "    return render_template_string(\"\"\"\n",
        "        <p>Original: {{ text }}</p>\n",
        "        <p>Reversed: {{ text | reverse }}</p>\n",
        "    \"\"\", text=sample_text)\n",
        "\n",
        "if __name__ == '__main__':\n",
        "    app.run(debug=True)\n"
      ],
      "metadata": {
        "id": "tTp9U6Heyn0-"
      },
      "execution_count": null,
      "outputs": []
    },
    {
      "cell_type": "code",
      "source": [
        "#Q13. How can you redirect with query parameters in Flask?\n",
        "#Answer. from flask import Flask, redirect, url_for, request\n",
        "\n",
        "app = Flask(__name__)\n",
        "\n",
        "@app.route('/')\n",
        "def home():\n",
        "    # Get optional message query param\n",
        "    msg = request.args.get('msg', 'No message')\n",
        "    return f\"Home Page - Message: {msg}\"\n",
        "\n",
        "@app.route('/redirect-example')\n",
        "def redirect_example():\n",
        "    # Redirect to 'home' with a query parameter 'msg'\n",
        "    return redirect(url_for('home', msg=\"Hello from redirect!\"))\n",
        "\n",
        "if __name__ == '__main__':\n",
        "    app.run(debug=True)\n"
      ],
      "metadata": {
        "id": "t5fzDRZBynyV"
      },
      "execution_count": null,
      "outputs": []
    },
    {
      "cell_type": "code",
      "source": [
        "#Q14.  How do you return JSON responses in Flask?\n",
        "#Answer.\n",
        "# If running in Google Colab, install flask-ngrok\n",
        "!pip install flask-ngrok > /dev/null\n",
        "\n",
        "from flask import Flask, jsonify, redirect, url_for, request\n",
        "from flask_ngrok import run_with_ngrok\n",
        "\n",
        "app = Flask(__name__)\n",
        "run_with_ngrok(app)  # Only for Colab — remove if running locally\n",
        "\n",
        "# Route that returns JSON response\n",
        "@app.route('/api/data')\n",
        "def api_data():\n",
        "    data = {\n",
        "        \"name\": \"Alice\",\n",
        "        \"age\": 30,\n",
        "        \"city\": \"New York\"\n",
        "    }\n",
        "    return jsonify(data)\n",
        "\n",
        "# Route that redirects to /result with query parameters\n",
        "@app.route('/redirect-example')\n",
        "def redirect_example():\n",
        "    # Redirect with query parameter 'msg'\n",
        "    return redirect(url_for('result', msg=\"Hello from redirect!\"))\n",
        "\n",
        "# Route that reads query parameters and displays them\n",
        "@app.route('/result')\n",
        "def result():\n",
        "    msg = request.args.get('msg', 'No message')\n",
        "    return f\"Result page - Message: {msg}\"\n",
        "\n",
        "if __name__ == '__main__':\n",
        "    app.run()\n"
      ],
      "metadata": {
        "id": "AxythWOU1m6a"
      },
      "execution_count": null,
      "outputs": []
    },
    {
      "cell_type": "code",
      "source": [
        "#Q15. How do you capture URL parameters in Flask?\n",
        "#Answer.\n",
        "from flask import Flask\n",
        "\n",
        "app = Flask(__name__)\n",
        "\n",
        "# Capture a string parameter\n",
        "@app.route('/user/<username>')\n",
        "def show_user(username):\n",
        "    return f\"User: {username}\"\n",
        "\n",
        "# Capture an integer parameter\n",
        "@app.route('/post/<int:post_id>')\n",
        "def show_post(post_id):\n",
        "    return f\"Post ID: {post_id}\"\n",
        "\n",
        "if __name__ == '__main__':\n",
        "    app.run(debug=True)\n"
      ],
      "metadata": {
        "id": "BslFzI6P1lvF"
      },
      "execution_count": null,
      "outputs": []
    }
  ]
}